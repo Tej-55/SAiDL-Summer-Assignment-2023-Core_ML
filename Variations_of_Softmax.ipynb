{
  "nbformat": 4,
  "nbformat_minor": 0,
  "metadata": {
    "colab": {
      "provenance": [],
      "authorship_tag": "ABX9TyNN+MKt5u0asznUVJl/4BYi",
      "include_colab_link": true
    },
    "kernelspec": {
      "name": "python3",
      "display_name": "Python 3"
    },
    "language_info": {
      "name": "python"
    },
    "accelerator": "GPU",
    "gpuClass": "standard"
  },
  "cells": [
    {
      "cell_type": "markdown",
      "metadata": {
        "id": "view-in-github",
        "colab_type": "text"
      },
      "source": [
        "<a href=\"https://colab.research.google.com/github/Tej-55/SAiDL-Summer-Assignment-2023-Core_ML/blob/main/Variations_of_Softmax.ipynb\" target=\"_parent\"><img src=\"https://colab.research.google.com/assets/colab-badge.svg\" alt=\"Open In Colab\"/></a>"
      ]
    },
    {
      "cell_type": "code",
      "execution_count": null,
      "metadata": {
        "id": "BQzDYwrRhDYz"
      },
      "outputs": [],
      "source": [
        "import numpy as np\n",
        "import matplotlib.pyplot as plt\n",
        "import pandas as pd\n",
        "import tensorflow as tf\n",
        "from tensorflow.keras import layers\n",
        "import tensorflow_probability as tfp\n",
        "from sklearn.metrics import accuracy_score, precision_score, recall_score, f1_score, confusion_matrix\n",
        "import time"
      ]
    },
    {
      "cell_type": "code",
      "source": [
        "# First load the CIFAR-100 from tf\n",
        "(x_train, y_train), (x_test, y_test) = tf.keras.datasets.cifar100.load_data()"
      ],
      "metadata": {
        "colab": {
          "base_uri": "https://localhost:8080/"
        },
        "id": "S5xbHG-Qh3XL",
        "outputId": "28a691e7-44ae-4cd0-9e28-f8dea700bc41"
      },
      "execution_count": null,
      "outputs": [
        {
          "output_type": "stream",
          "name": "stdout",
          "text": [
            "Downloading data from https://www.cs.toronto.edu/~kriz/cifar-100-python.tar.gz\n",
            "169001437/169001437 [==============================] - 13s 0us/step\n"
          ]
        }
      ]
    },
    {
      "cell_type": "code",
      "source": [
        "# Scale pixel value to [0,1] float values\n",
        "x_train = x_train.astype(\"float32\") / 255.0\n",
        "x_test = x_test.astype(\"float32\") / 255.0"
      ],
      "metadata": {
        "id": "skZfkUZBiEZN"
      },
      "execution_count": null,
      "outputs": []
    },
    {
      "cell_type": "code",
      "source": [
        "# Convert labels to OHE\n",
        "y_train = tf.keras.utils.to_categorical(y_train, num_classes=100)\n",
        "y_test = tf.keras.utils.to_categorical(y_test, num_classes=100)"
      ],
      "metadata": {
        "id": "B8i9r7CIiQz6"
      },
      "execution_count": null,
      "outputs": []
    },
    {
      "cell_type": "code",
      "source": [
        "\n",
        "class TimeHistory(tf.keras.callbacks.Callback):\n",
        "    def __init__(self):\n",
        "        super(TimeHistory, self).__init__()\n",
        "        self.epoch_times = []\n",
        "\n",
        "    def on_epoch_begin(self, epoch, logs=None):\n",
        "        self.epoch_start_time = time.time()\n",
        "\n",
        "    def on_epoch_end(self, epoch, logs=None):\n",
        "        epoch_time = time.time() - self.epoch_start_time\n",
        "        self.epoch_times.append(epoch_time)\n",
        "        mean_epoch_time = np.mean(self.epoch_times)\n",
        "        logs[\"mean_epoch_time\"] = mean_epoch_time"
      ],
      "metadata": {
        "id": "PvFP3jcSmPFY"
      },
      "execution_count": null,
      "outputs": []
    },
    {
      "cell_type": "markdown",
      "source": [
        "# Using Normal Softmax"
      ],
      "metadata": {
        "id": "EmNio9vsorvo"
      }
    },
    {
      "cell_type": "code",
      "source": [
        "# Make the model (I have used functional API)\n",
        "def functional_model():\n",
        "  inputs = layers.Input(shape=(32, 32, 3))\n",
        "  x = layers.Conv2D(32, (3, 3), activation=\"relu\")(inputs)\n",
        "  x = layers.MaxPooling2D(pool_size=(2, 2))(x)\n",
        "  x = layers.Conv2D(64, (3, 3), activation=\"relu\")(x)\n",
        "  x = layers.MaxPooling2D(pool_size=(2, 2))(x)\n",
        "  x = layers.Flatten()(x)\n",
        "  x = layers.Dense(128, activation=\"relu\")(x)\n",
        "  outputs = layers.Dense(100, activation=\"softmax\")(x)\n",
        "  return tf.keras.Model(inputs=inputs, outputs=outputs)"
      ],
      "metadata": {
        "id": "x3VFVrediaSe"
      },
      "execution_count": null,
      "outputs": []
    },
    {
      "cell_type": "code",
      "source": [
        "# Compile and train\n",
        "model = functional_model()\n",
        "model.compile(optimizer=\"adam\",\n",
        "              loss=\"categorical_crossentropy\",\n",
        "              metrics=[\"accuracy\"])\n",
        "history = model.fit(x_train, y_train, batch_size=64, epochs=10, validation_data=(x_test, y_test), callbacks=[TimeHistory()])"
      ],
      "metadata": {
        "colab": {
          "base_uri": "https://localhost:8080/"
        },
        "id": "KyLtTRigkWlF",
        "outputId": "7aa89be8-f465-43a5-e232-cbf7611c6834"
      },
      "execution_count": null,
      "outputs": [
        {
          "output_type": "stream",
          "name": "stdout",
          "text": [
            "Epoch 1/10\n",
            "782/782 [==============================] - 16s 6ms/step - loss: 3.7776 - accuracy: 0.1308 - val_loss: 3.3117 - val_accuracy: 0.2038 - mean_epoch_time: 15.6154\n",
            "Epoch 2/10\n",
            "782/782 [==============================] - 5s 6ms/step - loss: 3.0783 - accuracy: 0.2479 - val_loss: 2.9620 - val_accuracy: 0.2827 - mean_epoch_time: 10.2419\n",
            "Epoch 3/10\n",
            "782/782 [==============================] - 5s 6ms/step - loss: 2.7778 - accuracy: 0.3108 - val_loss: 2.7890 - val_accuracy: 0.3092 - mean_epoch_time: 8.3283\n",
            "Epoch 4/10\n",
            "782/782 [==============================] - 4s 5ms/step - loss: 2.5768 - accuracy: 0.3529 - val_loss: 2.6342 - val_accuracy: 0.3417 - mean_epoch_time: 7.3006\n",
            "Epoch 5/10\n",
            "782/782 [==============================] - 5s 6ms/step - loss: 2.4178 - accuracy: 0.3844 - val_loss: 2.6539 - val_accuracy: 0.3361 - mean_epoch_time: 6.8425\n",
            "Epoch 6/10\n",
            "782/782 [==============================] - 4s 6ms/step - loss: 2.2982 - accuracy: 0.4086 - val_loss: 2.5202 - val_accuracy: 0.3674 - mean_epoch_time: 6.4511\n",
            "Epoch 7/10\n",
            "782/782 [==============================] - 4s 6ms/step - loss: 2.1829 - accuracy: 0.4329 - val_loss: 2.4811 - val_accuracy: 0.3742 - mean_epoch_time: 6.1495\n",
            "Epoch 8/10\n",
            "782/782 [==============================] - 5s 6ms/step - loss: 2.0888 - accuracy: 0.4514 - val_loss: 2.4901 - val_accuracy: 0.3777 - mean_epoch_time: 5.9738\n",
            "Epoch 9/10\n",
            "782/782 [==============================] - 4s 6ms/step - loss: 2.0007 - accuracy: 0.4735 - val_loss: 2.4872 - val_accuracy: 0.3860 - mean_epoch_time: 5.7952\n",
            "Epoch 10/10\n",
            "782/782 [==============================] - 5s 6ms/step - loss: 1.9195 - accuracy: 0.4918 - val_loss: 2.4724 - val_accuracy: 0.3839 - mean_epoch_time: 5.6845\n"
          ]
        }
      ]
    },
    {
      "cell_type": "code",
      "source": [
        "# Predict the classes of the test set\n",
        "y_pred = model.predict(x_test)\n",
        "y_pred_classes = tf.argmax(y_pred, axis=1)\n",
        "y_true_classes = tf.argmax(y_test, axis=1)\n",
        "\n",
        "# Compute evaluation metrics\n",
        "acc = accuracy_score(y_true_classes, y_pred_classes)\n",
        "prec = precision_score(y_true_classes, y_pred_classes, average='micro')\n",
        "rec = recall_score(y_true_classes, y_pred_classes, average='micro')\n",
        "f1 = f1_score(y_true_classes, y_pred_classes, average='micro')\n",
        "cm = confusion_matrix(y_true_classes, y_pred_classes)"
      ],
      "metadata": {
        "colab": {
          "base_uri": "https://localhost:8080/"
        },
        "id": "1JqeqtEml3pL",
        "outputId": "9eec3d6f-d1e7-4d64-d39a-25216f0f3b0e"
      },
      "execution_count": null,
      "outputs": [
        {
          "output_type": "stream",
          "name": "stdout",
          "text": [
            "313/313 [==============================] - 1s 2ms/step\n"
          ]
        }
      ]
    },
    {
      "cell_type": "code",
      "source": [
        "#average training time per epoch\n",
        "history.history['mean_epoch_time'][-1] "
      ],
      "metadata": {
        "colab": {
          "base_uri": "https://localhost:8080/"
        },
        "id": "BBkqljVYnLjY",
        "outputId": "5c89fb2b-9958-4102-f084-d67114446c03"
      },
      "execution_count": null,
      "outputs": [
        {
          "output_type": "execute_result",
          "data": {
            "text/plain": [
              "5.684497356414795"
            ]
          },
          "metadata": {},
          "execution_count": 9
        }
      ]
    },
    {
      "cell_type": "code",
      "source": [
        "acc, prec, rec, f1"
      ],
      "metadata": {
        "colab": {
          "base_uri": "https://localhost:8080/"
        },
        "id": "wc7NeNxxnZEA",
        "outputId": "1cbf9fba-3cbc-4f6b-8771-f8bbe9788556"
      },
      "execution_count": null,
      "outputs": [
        {
          "output_type": "execute_result",
          "data": {
            "text/plain": [
              "(0.3839, 0.3839, 0.3839, 0.3839)"
            ]
          },
          "metadata": {},
          "execution_count": 10
        }
      ]
    },
    {
      "cell_type": "code",
      "source": [
        "plt.imshow(cm)"
      ],
      "metadata": {
        "colab": {
          "base_uri": "https://localhost:8080/",
          "height": 450
        },
        "id": "uyNvPVHsm8wK",
        "outputId": "0130c58a-db34-4635-aae9-d003ce4be464"
      },
      "execution_count": null,
      "outputs": [
        {
          "output_type": "execute_result",
          "data": {
            "text/plain": [
              "<matplotlib.image.AxesImage at 0x7f5c96269d30>"
            ]
          },
          "metadata": {},
          "execution_count": 11
        },
        {
          "output_type": "display_data",
          "data": {
            "text/plain": [
              "<Figure size 640x480 with 1 Axes>"
            ],
            "image/png": "[encoded data removed]"
          },
          "metadata": {}
        }
      ]
    },
    {
      "cell_type": "markdown",
      "source": [
        "# Using Gumbel Softmax"
      ],
      "metadata": {
        "id": "oPD1FpLco8eb"
      }
    },
    {
      "cell_type": "code",
      "source": [
        "# First we define the gumbel_softmax\n",
        "def gumbel_softmax(logits, temperature, hard=False):\n",
        "    # Generate Gumbel noise\n",
        "    noise = -tf.math.log(-tf.math.log(tf.random.uniform(tf.shape(logits), minval=1e-10, maxval=1.0)))\n",
        "\n",
        "    # Add noise to logits\n",
        "    y = logits + noise / temperature\n",
        "\n",
        "    # Apply softmax\n",
        "    y = tf.nn.softmax(y, axis=-1)\n",
        "    return y"
      ],
      "metadata": {
        "id": "ARCUpBParVLc"
      },
      "execution_count": null,
      "outputs": []
    },
    {
      "cell_type": "code",
      "source": [
        "# Make the model (I have used functional API)\n",
        "def functional_model():\n",
        "  inputs = layers.Input(shape=(32, 32, 3))\n",
        "  x = layers.Conv2D(32, (3, 3), activation=\"relu\")(inputs)\n",
        "  x = layers.MaxPooling2D(pool_size=(2, 2))(x)\n",
        "  x = layers.Conv2D(64, (3, 3), activation=\"relu\")(x)\n",
        "  x = layers.MaxPooling2D(pool_size=(2, 2))(x)\n",
        "  x = layers.Flatten()(x)\n",
        "  x = layers.Dense(128, activation=\"relu\")(x)\n",
        "  outputs = layers.Dense(100, activation=lambda x: gumbel_softmax(x, 10))(x)\n",
        "  return tf.keras.Model(inputs=inputs, outputs=outputs)"
      ],
      "metadata": {
        "id": "jCsRsa8HpCgD"
      },
      "execution_count": null,
      "outputs": []
    },
    {
      "cell_type": "code",
      "source": [
        "# Compile and train\n",
        "model = functional_model()\n",
        "model.compile(optimizer=\"adam\",\n",
        "              loss=\"categorical_crossentropy\",\n",
        "              metrics=[\"accuracy\"])\n",
        "history = model.fit(x_train, y_train, batch_size=64, epochs=10, validation_data=(x_test, y_test), callbacks=[TimeHistory()])"
      ],
      "metadata": {
        "colab": {
          "base_uri": "https://localhost:8080/"
        },
        "id": "IUjS1GKLpcQP",
        "outputId": "a832090e-a12d-4f02-e1cb-a19839141821"
      },
      "execution_count": null,
      "outputs": [
        {
          "output_type": "stream",
          "name": "stdout",
          "text": [
            "Epoch 1/10\n",
            "782/782 [==============================] - 7s 7ms/step - loss: 3.8432 - accuracy: 0.1206 - val_loss: 3.3987 - val_accuracy: 0.1941 - mean_epoch_time: 7.1762\n",
            "Epoch 2/10\n",
            "782/782 [==============================] - 4s 6ms/step - loss: 3.1468 - accuracy: 0.2389 - val_loss: 3.0201 - val_accuracy: 0.2639 - mean_epoch_time: 5.7423\n",
            "Epoch 3/10\n",
            "782/782 [==============================] - 5s 6ms/step - loss: 2.8356 - accuracy: 0.2983 - val_loss: 2.8479 - val_accuracy: 0.2994 - mean_epoch_time: 5.3552\n",
            "Epoch 4/10\n",
            "782/782 [==============================] - 5s 7ms/step - loss: 2.6346 - accuracy: 0.3383 - val_loss: 2.7539 - val_accuracy: 0.3209 - mean_epoch_time: 5.2921\n",
            "Epoch 5/10\n",
            "782/782 [==============================] - 5s 6ms/step - loss: 2.4770 - accuracy: 0.3722 - val_loss: 2.6567 - val_accuracy: 0.3382 - mean_epoch_time: 5.1869\n",
            "Epoch 6/10\n",
            "782/782 [==============================] - 5s 7ms/step - loss: 2.3502 - accuracy: 0.3984 - val_loss: 2.5634 - val_accuracy: 0.3569 - mean_epoch_time: 5.2313\n",
            "Epoch 7/10\n",
            "782/782 [==============================] - 8s 10ms/step - loss: 2.2490 - accuracy: 0.4214 - val_loss: 2.5195 - val_accuracy: 0.3672 - mean_epoch_time: 5.5754\n",
            "Epoch 8/10\n",
            "782/782 [==============================] - 8s 11ms/step - loss: 2.1515 - accuracy: 0.4396 - val_loss: 2.4981 - val_accuracy: 0.3747 - mean_epoch_time: 5.9115\n",
            "Epoch 9/10\n",
            "782/782 [==============================] - 7s 10ms/step - loss: 2.0758 - accuracy: 0.4570 - val_loss: 2.5173 - val_accuracy: 0.3734 - mean_epoch_time: 6.0844\n",
            "Epoch 10/10\n",
            "782/782 [==============================] - 9s 11ms/step - loss: 1.9990 - accuracy: 0.4740 - val_loss: 2.5169 - val_accuracy: 0.3733 - mean_epoch_time: 6.3267\n"
          ]
        }
      ]
    },
    {
      "cell_type": "code",
      "source": [
        "# Predict the classes of the test set\n",
        "y_pred = model.predict(x_test)\n",
        "y_pred_classes = tf.argmax(y_pred, axis=1)\n",
        "y_true_classes = tf.argmax(y_test, axis=1)\n",
        "\n",
        "# Compute evaluation metrics\n",
        "acc = accuracy_score(y_true_classes, y_pred_classes)\n",
        "prec = precision_score(y_true_classes, y_pred_classes, average='micro')\n",
        "rec = recall_score(y_true_classes, y_pred_classes, average='micro')\n",
        "f1 = f1_score(y_true_classes, y_pred_classes, average='micro')\n",
        "cm = confusion_matrix(y_true_classes, y_pred_classes)"
      ],
      "metadata": {
        "colab": {
          "base_uri": "https://localhost:8080/"
        },
        "id": "u1jSaS8jppuv",
        "outputId": "d8159786-b7dc-4c51-ac12-1c8ee3693acf"
      },
      "execution_count": null,
      "outputs": [
        {
          "output_type": "stream",
          "name": "stdout",
          "text": [
            "313/313 [==============================] - 1s 2ms/step\n"
          ]
        }
      ]
    },
    {
      "cell_type": "code",
      "source": [
        "#average training time per epoch\n",
        "history.history['mean_epoch_time'][-1] "
      ],
      "metadata": {
        "colab": {
          "base_uri": "https://localhost:8080/"
        },
        "id": "2gnL9E2aqCxR",
        "outputId": "af2e89a7-5278-4a7c-839f-159d220d9270"
      },
      "execution_count": null,
      "outputs": [
        {
          "output_type": "execute_result",
          "data": {
            "text/plain": [
              "6.326744532585144"
            ]
          },
          "metadata": {},
          "execution_count": 16
        }
      ]
    },
    {
      "cell_type": "code",
      "source": [
        "acc, prec, rec, f1"
      ],
      "metadata": {
        "colab": {
          "base_uri": "https://localhost:8080/"
        },
        "id": "qTgvMyMysx_9",
        "outputId": "2bdafe4c-69c3-4922-c051-0dabfc9a0a70"
      },
      "execution_count": null,
      "outputs": [
        {
          "output_type": "execute_result",
          "data": {
            "text/plain": [
              "(0.3754, 0.3754, 0.3754, 0.37540000000000007)"
            ]
          },
          "metadata": {},
          "execution_count": 17
        }
      ]
    },
    {
      "cell_type": "code",
      "source": [
        "plt.imshow(cm)"
      ],
      "metadata": {
        "colab": {
          "base_uri": "https://localhost:8080/",
          "height": 450
        },
        "id": "vnfDxMAls2bO",
        "outputId": "3a7ddf7d-95e1-4686-cf5a-b314e49492d4"
      },
      "execution_count": null,
      "outputs": [
        {
          "output_type": "execute_result",
          "data": {
            "text/plain": [
              "<matplotlib.image.AxesImage at 0x7f5bddca2070>"
            ]
          },
          "metadata": {},
          "execution_count": 18
        },
        {
          "output_type": "display_data",
          "data": {
            "text/plain": [
              "<Figure size 640x480 with 1 Axes>"
            ],
            "image/png": "[encoded data removed]"
          },
          "metadata": {}
        }
      ]
    },
    {
      "cell_type": "markdown",
      "source": [
        "# Hierarchical Softmax"
      ],
      "metadata": {
        "id": "RDqaPwxIs9qH"
      }
    },
    {
      "cell_type": "code",
      "source": [
        "class HierarchicalSoftmax(tf.keras.layers.Layer):\n",
        "    def __init__(self, num_classes, tree_structure, name=None):\n",
        "        super(HierarchicalSoftmax, self).__init__(name=name)\n",
        "        self.num_classes = num_classes\n",
        "        self.tree_structure = tree_structure\n",
        "        self.num_internal_nodes = len(tree_structure) - num_classes\n",
        "        self.internal_nodes = [tf.Variable(tf.random.normal([1])) for _ in range(self.num_internal_nodes)]\n",
        "        self.leaf_nodes = [tf.Variable(tf.random.normal([1, num_classes])) for _ in range(num_classes)]\n",
        "        self.tfp_dist = tfp.distributions.Categorical\n",
        "\n",
        "    def call(self, inputs):\n",
        "        probabilities = []\n",
        "        for i in range(self.num_classes):\n",
        "            current_node = i + self.num_internal_nodes\n",
        "            prob = tf.sigmoid(self.internal_nodes[self.tree_structure[current_node][0]] * inputs + self.internal_nodes[self.tree_structure[current_node][1]])\n",
        "            while current_node > 0:\n",
        "                parent_node = (current_node - 1) // 2\n",
        "                if current_node == self.tree_structure[parent_node][0]:\n",
        "                    prob *= tf.sigmoid(self.internal_nodes[parent_node][0])\n",
        "                else:\n",
        "                    prob *= tf.sigmoid(-self.internal_nodes[parent_node][0])\n",
        "                current_node = parent_node\n",
        "            probabilities.append(prob * tf.sigmoid(self.leaf_nodes[i][0]))\n",
        "        return tf.reduce_sum(tf.concat(probabilities, axis=1), axis=1)\n"
      ],
      "metadata": {
        "id": "Ra_G-DhmtPNj"
      },
      "execution_count": null,
      "outputs": []
    },
    {
      "cell_type": "code",
      "source": [
        "struct = [[i+j for j in range(5)] for i in range(0,20)]"
      ],
      "metadata": {
        "id": "GaHmnIWjek8Z"
      },
      "execution_count": null,
      "outputs": []
    },
    {
      "cell_type": "code",
      "source": [
        "def functional_model():\n",
        "  inputs = layers.Input(shape=(32, 32, 3))\n",
        "  x = layers.Conv2D(32, (3, 3), activation=\"relu\")(inputs)\n",
        "  x = layers.MaxPooling2D(pool_size=(2, 2))(x)\n",
        "  x = layers.Conv2D(64, (3, 3), activation=\"relu\")(x)\n",
        "  x = layers.MaxPooling2D(pool_size=(2, 2))(x)\n",
        "  x = layers.Flatten()(x)\n",
        "  x = layers.Dense(128, activation=\"relu\")(x)\n",
        "  outputs = layers.Dense(100, activation=HierarchicalSoftmax(5, struct))(x)\n",
        "  return tf.keras.Model(inputs=inputs, outputs=outputs)"
      ],
      "metadata": {
        "id": "uZfUn2yId_nM"
      },
      "execution_count": null,
      "outputs": []
    },
    {
      "cell_type": "code",
      "source": [
        "# Compile and train\n",
        "model = functional_model()\n",
        "model.compile(optimizer=\"adam\",\n",
        "              loss=\"categorical_crossentropy\",\n",
        "              metrics=[\"accuracy\"])\n",
        "history = model.fit(x_train, y_train, batch_size=64, epochs=10, validation_data=(x_test, y_test), callbacks=[TimeHistory()])"
      ],
      "metadata": {
        "colab": {
          "base_uri": "https://localhost:8080/",
          "height": 571
        },
        "id": "EMGsFS6midoP",
        "outputId": "2c643cbe-5ed4-49ff-aba8-5824f9fdee81"
      },
      "execution_count": null,
      "outputs": [
        {
          "output_type": "error",
          "ename": "StagingError",
          "evalue": "ignored",
          "traceback": [
            "\u001b[0;31m---------------------------------------------------------------------------\u001b[0m",
            "\u001b[0;31mStagingError\u001b[0m                              Traceback (most recent call last)",
            "\u001b[0;32m<ipython-input-38-cde6d8092428>\u001b[0m in \u001b[0;36m<cell line: 2>\u001b[0;34m()\u001b[0m\n\u001b[1;32m      1\u001b[0m \u001b[0;31m# Compile and train\u001b[0m\u001b[0;34m\u001b[0m\u001b[0;34m\u001b[0m\u001b[0m\n\u001b[0;32m----> 2\u001b[0;31m \u001b[0mmodel\u001b[0m \u001b[0;34m=\u001b[0m \u001b[0mfunctional_model\u001b[0m\u001b[0;34m(\u001b[0m\u001b[0;34m)\u001b[0m\u001b[0;34m\u001b[0m\u001b[0;34m\u001b[0m\u001b[0m\n\u001b[0m\u001b[1;32m      3\u001b[0m model.compile(optimizer=\"adam\",\n\u001b[1;32m      4\u001b[0m               \u001b[0mloss\u001b[0m\u001b[0;34m=\u001b[0m\u001b[0;34m\"categorical_crossentropy\"\u001b[0m\u001b[0;34m,\u001b[0m\u001b[0;34m\u001b[0m\u001b[0;34m\u001b[0m\u001b[0m\n\u001b[1;32m      5\u001b[0m               metrics=[\"accuracy\"])\n",
            "\u001b[0;32m<ipython-input-37-ec26b0d89352>\u001b[0m in \u001b[0;36mfunctional_model\u001b[0;34m()\u001b[0m\n\u001b[1;32m      7\u001b[0m   \u001b[0mx\u001b[0m \u001b[0;34m=\u001b[0m \u001b[0mlayers\u001b[0m\u001b[0;34m.\u001b[0m\u001b[0mFlatten\u001b[0m\u001b[0;34m(\u001b[0m\u001b[0;34m)\u001b[0m\u001b[0;34m(\u001b[0m\u001b[0mx\u001b[0m\u001b[0;34m)\u001b[0m\u001b[0;34m\u001b[0m\u001b[0;34m\u001b[0m\u001b[0m\n\u001b[1;32m      8\u001b[0m   \u001b[0mx\u001b[0m \u001b[0;34m=\u001b[0m \u001b[0mlayers\u001b[0m\u001b[0;34m.\u001b[0m\u001b[0mDense\u001b[0m\u001b[0;34m(\u001b[0m\u001b[0;36m128\u001b[0m\u001b[0;34m,\u001b[0m \u001b[0mactivation\u001b[0m\u001b[0;34m=\u001b[0m\u001b[0;34m\"relu\"\u001b[0m\u001b[0;34m)\u001b[0m\u001b[0;34m(\u001b[0m\u001b[0mx\u001b[0m\u001b[0;34m)\u001b[0m\u001b[0;34m\u001b[0m\u001b[0;34m\u001b[0m\u001b[0m\n\u001b[0;32m----> 9\u001b[0;31m   \u001b[0moutputs\u001b[0m \u001b[0;34m=\u001b[0m \u001b[0mlayers\u001b[0m\u001b[0;34m.\u001b[0m\u001b[0mDense\u001b[0m\u001b[0;34m(\u001b[0m\u001b[0;36m100\u001b[0m\u001b[0;34m,\u001b[0m \u001b[0mactivation\u001b[0m\u001b[0;34m=\u001b[0m\u001b[0mHierarchicalSoftmax\u001b[0m\u001b[0;34m(\u001b[0m\u001b[0;36m5\u001b[0m\u001b[0;34m,\u001b[0m \u001b[0mstruct\u001b[0m\u001b[0;34m)\u001b[0m\u001b[0;34m)\u001b[0m\u001b[0;34m(\u001b[0m\u001b[0mx\u001b[0m\u001b[0;34m)\u001b[0m\u001b[0;34m\u001b[0m\u001b[0;34m\u001b[0m\u001b[0m\n\u001b[0m\u001b[1;32m     10\u001b[0m   \u001b[0;32mreturn\u001b[0m \u001b[0mtf\u001b[0m\u001b[0;34m.\u001b[0m\u001b[0mkeras\u001b[0m\u001b[0;34m.\u001b[0m\u001b[0mModel\u001b[0m\u001b[0;34m(\u001b[0m\u001b[0minputs\u001b[0m\u001b[0;34m=\u001b[0m\u001b[0minputs\u001b[0m\u001b[0;34m,\u001b[0m \u001b[0moutputs\u001b[0m\u001b[0;34m=\u001b[0m\u001b[0moutputs\u001b[0m\u001b[0;34m)\u001b[0m\u001b[0;34m\u001b[0m\u001b[0;34m\u001b[0m\u001b[0m\n",
            "\u001b[0;32m/usr/local/lib/python3.9/dist-packages/keras/utils/traceback_utils.py\u001b[0m in \u001b[0;36merror_handler\u001b[0;34m(*args, **kwargs)\u001b[0m\n\u001b[1;32m     68\u001b[0m             \u001b[0;31m# To get the full stack trace, call:\u001b[0m\u001b[0;34m\u001b[0m\u001b[0;34m\u001b[0m\u001b[0m\n\u001b[1;32m     69\u001b[0m             \u001b[0;31m# `tf.debugging.disable_traceback_filtering()`\u001b[0m\u001b[0;34m\u001b[0m\u001b[0;34m\u001b[0m\u001b[0m\n\u001b[0;32m---> 70\u001b[0;31m             \u001b[0;32mraise\u001b[0m \u001b[0me\u001b[0m\u001b[0;34m.\u001b[0m\u001b[0mwith_traceback\u001b[0m\u001b[0;34m(\u001b[0m\u001b[0mfiltered_tb\u001b[0m\u001b[0;34m)\u001b[0m \u001b[0;32mfrom\u001b[0m \u001b[0;32mNone\u001b[0m\u001b[0;34m\u001b[0m\u001b[0;34m\u001b[0m\u001b[0m\n\u001b[0m\u001b[1;32m     71\u001b[0m         \u001b[0;32mfinally\u001b[0m\u001b[0;34m:\u001b[0m\u001b[0;34m\u001b[0m\u001b[0;34m\u001b[0m\u001b[0m\n\u001b[1;32m     72\u001b[0m             \u001b[0;32mdel\u001b[0m \u001b[0mfiltered_tb\u001b[0m\u001b[0;34m\u001b[0m\u001b[0;34m\u001b[0m\u001b[0m\n",
            "\u001b[0;32m/usr/local/lib/python3.9/dist-packages/tensorflow/python/autograph/impl/api.py\u001b[0m in \u001b[0;36mwrapper\u001b[0;34m(*args, **kwargs)\u001b[0m\n\u001b[1;32m    690\u001b[0m       \u001b[0;32mexcept\u001b[0m \u001b[0mException\u001b[0m \u001b[0;32mas\u001b[0m \u001b[0me\u001b[0m\u001b[0;34m:\u001b[0m  \u001b[0;31m# pylint:disable=broad-except\u001b[0m\u001b[0;34m\u001b[0m\u001b[0;34m\u001b[0m\u001b[0m\n\u001b[1;32m    691\u001b[0m         \u001b[0;32mif\u001b[0m \u001b[0mhasattr\u001b[0m\u001b[0;34m(\u001b[0m\u001b[0me\u001b[0m\u001b[0;34m,\u001b[0m \u001b[0;34m'ag_error_metadata'\u001b[0m\u001b[0;34m)\u001b[0m\u001b[0;34m:\u001b[0m\u001b[0;34m\u001b[0m\u001b[0;34m\u001b[0m\u001b[0m\n\u001b[0;32m--> 692\u001b[0;31m           \u001b[0;32mraise\u001b[0m \u001b[0me\u001b[0m\u001b[0;34m.\u001b[0m\u001b[0mag_error_metadata\u001b[0m\u001b[0;34m.\u001b[0m\u001b[0mto_exception\u001b[0m\u001b[0;34m(\u001b[0m\u001b[0me\u001b[0m\u001b[0;34m)\u001b[0m\u001b[0;34m\u001b[0m\u001b[0;34m\u001b[0m\u001b[0m\n\u001b[0m\u001b[1;32m    693\u001b[0m         \u001b[0;32melse\u001b[0m\u001b[0;34m:\u001b[0m\u001b[0;34m\u001b[0m\u001b[0;34m\u001b[0m\u001b[0m\n\u001b[1;32m    694\u001b[0m           \u001b[0;32mraise\u001b[0m\u001b[0;34m\u001b[0m\u001b[0;34m\u001b[0m\u001b[0m\n",
            "\u001b[0;31mStagingError\u001b[0m: Exception encountered when calling layer 'hierarchical_softmax_6' (type HierarchicalSoftmax).\n\nin user code:\n\n    File \"<ipython-input-29-0105376c9a62>\", line 15, in call  *\n        prob = tf.sigmoid(self.internal_nodes[self.tree_structure[current_node][0]] * inputs + self.internal_nodes[self.tree_structure[current_node][1]])\n\n    IndexError: list index out of range\n\n\nCall arguments received by layer 'hierarchical_softmax_6' (type HierarchicalSoftmax):\n  • inputs=tf.Tensor(shape=(None, 100), dtype=float32)"
          ]
        }
      ]
    },
    {
      "cell_type": "code",
      "source": [
        "# Predict the classes of the test set\n",
        "y_pred = model.predict(x_test)\n",
        "y_pred_classes = tf.argmax(y_pred, axis=1)\n",
        "y_true_classes = tf.argmax(y_test, axis=1)\n",
        "\n",
        "# Compute evaluation metrics\n",
        "acc = accuracy_score(y_true_classes, y_pred_classes)\n",
        "prec = precision_score(y_true_classes, y_pred_classes, average='micro')\n",
        "rec = recall_score(y_true_classes, y_pred_classes, average='micro')\n",
        "f1 = f1_score(y_true_classes, y_pred_classes, average='micro')\n",
        "cm = confusion_matrix(y_true_classes, y_pred_classes)"
      ],
      "metadata": {
        "colab": {
          "base_uri": "https://localhost:8080/"
        },
        "id": "hB1W8PTkj4IJ",
        "outputId": "22cbbe05-87e1-41ab-f024-97e1e390d6fb"
      },
      "execution_count": null,
      "outputs": [
        {
          "output_type": "stream",
          "name": "stdout",
          "text": [
            "313/313 [==============================] - 1s 2ms/step\n"
          ]
        }
      ]
    },
    {
      "cell_type": "code",
      "source": [
        "#average training time per epoch\n",
        "history.history['mean_epoch_time'][-1] "
      ],
      "metadata": {
        "colab": {
          "base_uri": "https://localhost:8080/"
        },
        "id": "mJpy7l5xqU1m",
        "outputId": "7f63de3d-3600-4d59-d984-f1e5d8b20376"
      },
      "execution_count": null,
      "outputs": [
        {
          "output_type": "execute_result",
          "data": {
            "text/plain": [
              "4.5900955438613895"
            ]
          },
          "metadata": {},
          "execution_count": 57
        }
      ]
    },
    {
      "cell_type": "code",
      "source": [
        "acc, prec, rec, f1"
      ],
      "metadata": {
        "colab": {
          "base_uri": "https://localhost:8080/"
        },
        "id": "uFe-jF5XkFWG",
        "outputId": "848744a7-106a-4ae1-eebc-405e240488bc"
      },
      "execution_count": null,
      "outputs": [
        {
          "output_type": "execute_result",
          "data": {
            "text/plain": [
              "(0.3792, 0.3792, 0.3792, 0.37920000000000004)"
            ]
          },
          "metadata": {},
          "execution_count": 56
        }
      ]
    },
    {
      "cell_type": "code",
      "source": [],
      "metadata": {
        "id": "0ytL5rv5qWxA"
      },
      "execution_count": null,
      "outputs": []
    }
  ]
}