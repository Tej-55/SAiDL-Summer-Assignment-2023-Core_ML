{
  "nbformat": 4,
  "nbformat_minor": 0,
  "metadata": {
    "colab": {
      "provenance": [],
      "authorship_tag": "ABX9TyOgl8+9Ax+UUgdoS8u2TG0t",
      "include_colab_link": true
    },
    "kernelspec": {
      "name": "python3",
      "display_name": "Python 3"
    },
    "language_info": {
      "name": "python"
    },
    "accelerator": "GPU",
    "gpuClass": "standard"
  },
  "cells": [
    {
      "cell_type": "markdown",
      "metadata": {
        "id": "view-in-github",
        "colab_type": "text"
      },
      "source": [
        "<a href=\"https://colab.research.google.com/github/Tej-55/SAiDL-Summer-Assignment-2023-Core_ML/blob/main/Variations_of_Softmax.ipynb\" target=\"_parent\"><img src=\"https://colab.research.google.com/assets/colab-badge.svg\" alt=\"Open In Colab\"/></a>"
      ]
    },
    {
      "cell_type": "code",
      "execution_count": null,
      "metadata": {
        "id": "BQzDYwrRhDYz"
      },
      "outputs": [],
      "source": [
        "import numpy as np\n",
        "import matplotlib.pyplot as plt\n",
        "import pandas as pd\n",
        "import tensorflow as tf\n",
        "from tensorflow.keras import layers\n",
        "import tensorflow_probability as tfp\n",
        "from sklearn.metrics import accuracy_score, precision_score, recall_score, f1_score, confusion_matrix\n",
        "import time"
      ]
    },
    {
      "cell_type": "code",
      "source": [
        "# First load the CIFAR-100 from tf\n",
        "(x_train, y_train), (x_test, y_test) = tf.keras.datasets.cifar100.load_data()"
      ],
      "metadata": {
        "colab": {
          "base_uri": "https://localhost:8080/"
        },
        "id": "S5xbHG-Qh3XL",
        "outputId": "ca75634c-80b6-47a7-891a-9be59ed919c7"
      },
      "execution_count": null,
      "outputs": [
        {
          "output_type": "stream",
          "name": "stdout",
          "text": [
            "Downloading data from https://www.cs.toronto.edu/~kriz/cifar-100-python.tar.gz\n",
            "169001437/169001437 [==============================] - 13s 0us/step\n"
          ]
        }
      ]
    },
    {
      "cell_type": "code",
      "source": [
        "# Scale pixel value to [0,1] float values\n",
        "x_train = x_train.astype(\"float32\") / 255.0\n",
        "x_test = x_test.astype(\"float32\") / 255.0"
      ],
      "metadata": {
        "id": "skZfkUZBiEZN"
      },
      "execution_count": null,
      "outputs": []
    },
    {
      "cell_type": "code",
      "source": [
        "# Convert labels to OHE\n",
        "y_train = tf.keras.utils.to_categorical(y_train, num_classes=100)\n",
        "y_test = tf.keras.utils.to_categorical(y_test, num_classes=100)"
      ],
      "metadata": {
        "id": "B8i9r7CIiQz6"
      },
      "execution_count": null,
      "outputs": []
    },
    {
      "cell_type": "code",
      "source": [
        "\n",
        "class TimeHistory(tf.keras.callbacks.Callback):\n",
        "    def __init__(self):\n",
        "        super(TimeHistory, self).__init__()\n",
        "        self.epoch_times = []\n",
        "\n",
        "    def on_epoch_begin(self, epoch, logs=None):\n",
        "        self.epoch_start_time = time.time()\n",
        "\n",
        "    def on_epoch_end(self, epoch, logs=None):\n",
        "        epoch_time = time.time() - self.epoch_start_time\n",
        "        self.epoch_times.append(epoch_time)\n",
        "        mean_epoch_time = np.mean(self.epoch_times)\n",
        "        logs[\"mean_epoch_time\"] = mean_epoch_time"
      ],
      "metadata": {
        "id": "PvFP3jcSmPFY"
      },
      "execution_count": null,
      "outputs": []
    },
    {
      "cell_type": "markdown",
      "source": [
        "# Using Normal Softmax\n",
        "Complexity: O(n)"
      ],
      "metadata": {
        "id": "EmNio9vsorvo"
      }
    },
    {
      "cell_type": "code",
      "source": [
        "# Make the model (I have used functional API)\n",
        "def functional_model():\n",
        "  inputs = layers.Input(shape=(32, 32, 3))\n",
        "  x = layers.Conv2D(32, (3, 3), activation=\"relu\")(inputs)\n",
        "  x = layers.MaxPooling2D(pool_size=(2, 2))(x)\n",
        "  x = layers.Conv2D(64, (3, 3), activation=\"relu\")(x)\n",
        "  x = layers.MaxPooling2D(pool_size=(2, 2))(x)\n",
        "  x = layers.Flatten()(x)\n",
        "  x = layers.Dense(128, activation=\"relu\")(x)\n",
        "  outputs = layers.Dense(100, activation=\"softmax\")(x)\n",
        "  return tf.keras.Model(inputs=inputs, outputs=outputs)"
      ],
      "metadata": {
        "id": "x3VFVrediaSe"
      },
      "execution_count": null,
      "outputs": []
    },
    {
      "cell_type": "code",
      "source": [
        "# Compile and train\n",
        "model = functional_model()\n",
        "model.compile(optimizer=\"adam\",\n",
        "              loss=\"categorical_crossentropy\",\n",
        "              metrics=[\"accuracy\"])\n",
        "history = model.fit(x_train, y_train, batch_size=64, epochs=10, validation_data=(x_test, y_test), callbacks=[TimeHistory()])"
      ],
      "metadata": {
        "colab": {
          "base_uri": "https://localhost:8080/"
        },
        "id": "KyLtTRigkWlF",
        "outputId": "07ecb6d7-82c2-45aa-8940-442cbc900442"
      },
      "execution_count": null,
      "outputs": [
        {
          "output_type": "stream",
          "name": "stdout",
          "text": [
            "Epoch 1/10\n",
            "782/782 [==============================] - 21s 10ms/step - loss: 3.8307 - accuracy: 0.1189 - val_loss: 3.3682 - val_accuracy: 0.2045 - mean_epoch_time: 21.0878\n",
            "Epoch 2/10\n",
            "782/782 [==============================] - 5s 6ms/step - loss: 3.1084 - accuracy: 0.2439 - val_loss: 2.9796 - val_accuracy: 0.2685 - mean_epoch_time: 12.8157\n",
            "Epoch 3/10\n",
            "782/782 [==============================] - 6s 7ms/step - loss: 2.7782 - accuracy: 0.3058 - val_loss: 2.7704 - val_accuracy: 0.3097 - mean_epoch_time: 10.4460\n",
            "Epoch 4/10\n",
            "782/782 [==============================] - 5s 7ms/step - loss: 2.5594 - accuracy: 0.3543 - val_loss: 2.6890 - val_accuracy: 0.3258 - mean_epoch_time: 9.1093\n",
            "Epoch 5/10\n",
            "782/782 [==============================] - 5s 6ms/step - loss: 2.4037 - accuracy: 0.3892 - val_loss: 2.6163 - val_accuracy: 0.3465 - mean_epoch_time: 8.2721\n",
            "Epoch 6/10\n",
            "782/782 [==============================] - 4s 5ms/step - loss: 2.2720 - accuracy: 0.4116 - val_loss: 2.5523 - val_accuracy: 0.3571 - mean_epoch_time: 7.5958\n",
            "Epoch 7/10\n",
            "782/782 [==============================] - 5s 7ms/step - loss: 2.1624 - accuracy: 0.4385 - val_loss: 2.4825 - val_accuracy: 0.3758 - mean_epoch_time: 7.2393\n",
            "Epoch 8/10\n",
            "782/782 [==============================] - 4s 5ms/step - loss: 2.0633 - accuracy: 0.4597 - val_loss: 2.4889 - val_accuracy: 0.3774 - mean_epoch_time: 6.8687\n",
            "Epoch 9/10\n",
            "782/782 [==============================] - 5s 6ms/step - loss: 1.9781 - accuracy: 0.4759 - val_loss: 2.4865 - val_accuracy: 0.3797 - mean_epoch_time: 6.6412\n",
            "Epoch 10/10\n",
            "782/782 [==============================] - 5s 7ms/step - loss: 1.8903 - accuracy: 0.4999 - val_loss: 2.4871 - val_accuracy: 0.3802 - mean_epoch_time: 6.4867\n"
          ]
        }
      ]
    },
    {
      "cell_type": "code",
      "source": [
        "# Predict the classes of the test set\n",
        "y_pred = model.predict(x_test)\n",
        "y_pred_classes = tf.argmax(y_pred, axis=1)\n",
        "y_true_classes = tf.argmax(y_test, axis=1)\n",
        "\n",
        "# Compute evaluation metrics\n",
        "acc = accuracy_score(y_true_classes, y_pred_classes)\n",
        "prec = precision_score(y_true_classes, y_pred_classes, average='micro')\n",
        "rec = recall_score(y_true_classes, y_pred_classes, average='micro')\n",
        "f1 = f1_score(y_true_classes, y_pred_classes, average='micro')\n",
        "cm = confusion_matrix(y_true_classes, y_pred_classes)"
      ],
      "metadata": {
        "colab": {
          "base_uri": "https://localhost:8080/"
        },
        "id": "1JqeqtEml3pL",
        "outputId": "81579fe6-3721-4ec0-c52c-126594a2b6a4"
      },
      "execution_count": null,
      "outputs": [
        {
          "output_type": "stream",
          "name": "stdout",
          "text": [
            "313/313 [==============================] - 1s 4ms/step\n"
          ]
        }
      ]
    },
    {
      "cell_type": "code",
      "source": [
        "#average training time per epoch\n",
        "history.history['mean_epoch_time'][-1] "
      ],
      "metadata": {
        "colab": {
          "base_uri": "https://localhost:8080/"
        },
        "id": "BBkqljVYnLjY",
        "outputId": "ee4f1a0b-eeeb-4bf2-c9c1-7b169163cc52"
      },
      "execution_count": null,
      "outputs": [
        {
          "output_type": "execute_result",
          "data": {
            "text/plain": [
              "6.4867209672927855"
            ]
          },
          "metadata": {},
          "execution_count": 9
        }
      ]
    },
    {
      "cell_type": "code",
      "source": [
        "acc, prec, rec, f1"
      ],
      "metadata": {
        "colab": {
          "base_uri": "https://localhost:8080/"
        },
        "id": "wc7NeNxxnZEA",
        "outputId": "2ce8f650-f232-4c76-fcd9-351555d85014"
      },
      "execution_count": null,
      "outputs": [
        {
          "output_type": "execute_result",
          "data": {
            "text/plain": [
              "(0.3802, 0.3802, 0.3802, 0.3802)"
            ]
          },
          "metadata": {},
          "execution_count": 10
        }
      ]
    },
    {
      "cell_type": "code",
      "source": [
        "plt.imshow(cm)"
      ],
      "metadata": {
        "colab": {
          "base_uri": "https://localhost:8080/",
          "height": 450
        },
        "id": "uyNvPVHsm8wK",
        "outputId": "92b0996f-1382-4ff9-9f54-b5bd360e59e8"
      },
      "execution_count": null,
      "outputs": [
        {
          "output_type": "execute_result",
          "data": {
            "text/plain": [
              "<matplotlib.image.AxesImage at 0x7f4ba80666b0>"
            ]
          },
          "metadata": {},
          "execution_count": 11
        },
        {
          "output_type": "display_data",
          "data": {
            "text/plain": [
              "<Figure size 640x480 with 1 Axes>"
            ],
            "image/png": "[encoded data removed]"
          },
          "metadata": {}
        }
      ]
    },
    {
      "cell_type": "markdown",
      "source": [
        "# Using Gumbel Softmax\n",
        "Complexity: O(n)"
      ],
      "metadata": {
        "id": "oPD1FpLco8eb"
      }
    },
    {
      "cell_type": "code",
      "source": [
        "# First we define the gumbel_softmax\n",
        "def gumbel_softmax(logits, temperature, hard=False):\n",
        "    # Generate Gumbel noise\n",
        "    noise = -tf.math.log(-tf.math.log(tf.random.uniform(tf.shape(logits), minval=1e-10, maxval=1.0)))\n",
        "\n",
        "    # Add noise to logits\n",
        "    y = logits + noise / temperature\n",
        "\n",
        "    # Apply softmax\n",
        "    y = tf.nn.softmax(y, axis=-1)\n",
        "    return y"
      ],
      "metadata": {
        "id": "ARCUpBParVLc"
      },
      "execution_count": null,
      "outputs": []
    },
    {
      "cell_type": "code",
      "source": [
        "# Make the model (I have used functional API)\n",
        "def functional_model():\n",
        "  inputs = layers.Input(shape=(32, 32, 3))\n",
        "  x = layers.Conv2D(32, (3, 3), activation=\"relu\")(inputs)\n",
        "  x = layers.MaxPooling2D(pool_size=(2, 2))(x)\n",
        "  x = layers.Conv2D(64, (3, 3), activation=\"relu\")(x)\n",
        "  x = layers.MaxPooling2D(pool_size=(2, 2))(x)\n",
        "  x = layers.Flatten()(x)\n",
        "  x = layers.Dense(128, activation=\"relu\")(x)\n",
        "  outputs = layers.Dense(100, activation=lambda x: gumbel_softmax(x, 10))(x)\n",
        "  return tf.keras.Model(inputs=inputs, outputs=outputs)"
      ],
      "metadata": {
        "id": "jCsRsa8HpCgD"
      },
      "execution_count": null,
      "outputs": []
    },
    {
      "cell_type": "code",
      "source": [
        "# Compile and train\n",
        "model = functional_model()\n",
        "model.compile(optimizer=\"adam\",\n",
        "              loss=\"categorical_crossentropy\",\n",
        "              metrics=[\"accuracy\"])\n",
        "history = model.fit(x_train, y_train, batch_size=64, epochs=10, validation_data=(x_test, y_test), callbacks=[TimeHistory()])"
      ],
      "metadata": {
        "colab": {
          "base_uri": "https://localhost:8080/"
        },
        "id": "IUjS1GKLpcQP",
        "outputId": "09038b57-3110-4e99-931b-6a346473a897"
      },
      "execution_count": null,
      "outputs": [
        {
          "output_type": "stream",
          "name": "stdout",
          "text": [
            "Epoch 1/10\n",
            "782/782 [==============================] - 8s 7ms/step - loss: 3.7772 - accuracy: 0.1330 - val_loss: 3.2959 - val_accuracy: 0.2194 - mean_epoch_time: 7.7644\n",
            "Epoch 2/10\n",
            "782/782 [==============================] - 6s 7ms/step - loss: 3.0444 - accuracy: 0.2588 - val_loss: 2.9256 - val_accuracy: 0.2800 - mean_epoch_time: 6.7064\n",
            "Epoch 3/10\n",
            "782/782 [==============================] - 5s 7ms/step - loss: 2.7173 - accuracy: 0.3234 - val_loss: 2.7619 - val_accuracy: 0.3166 - mean_epoch_time: 6.2058\n",
            "Epoch 4/10\n",
            "782/782 [==============================] - 6s 7ms/step - loss: 2.5205 - accuracy: 0.3625 - val_loss: 2.6416 - val_accuracy: 0.3461 - mean_epoch_time: 6.0575\n",
            "Epoch 5/10\n",
            "782/782 [==============================] - 6s 7ms/step - loss: 2.3650 - accuracy: 0.3967 - val_loss: 2.5688 - val_accuracy: 0.3602 - mean_epoch_time: 6.0018\n",
            "Epoch 6/10\n",
            "782/782 [==============================] - 6s 8ms/step - loss: 2.2456 - accuracy: 0.4205 - val_loss: 2.5226 - val_accuracy: 0.3697 - mean_epoch_time: 6.0751\n",
            "Epoch 7/10\n",
            "782/782 [==============================] - 6s 7ms/step - loss: 2.1373 - accuracy: 0.4442 - val_loss: 2.4985 - val_accuracy: 0.3796 - mean_epoch_time: 6.0128\n",
            "Epoch 8/10\n",
            "782/782 [==============================] - 6s 7ms/step - loss: 2.0546 - accuracy: 0.4634 - val_loss: 2.5566 - val_accuracy: 0.3699 - mean_epoch_time: 5.9643\n",
            "Epoch 9/10\n",
            "782/782 [==============================] - 5s 7ms/step - loss: 1.9682 - accuracy: 0.4822 - val_loss: 2.5455 - val_accuracy: 0.3773 - mean_epoch_time: 5.8922\n",
            "Epoch 10/10\n",
            "782/782 [==============================] - 5s 7ms/step - loss: 1.8935 - accuracy: 0.4997 - val_loss: 2.5468 - val_accuracy: 0.3771 - mean_epoch_time: 5.8451\n"
          ]
        }
      ]
    },
    {
      "cell_type": "code",
      "source": [
        "# Predict the classes of the test set\n",
        "y_pred = model.predict(x_test)\n",
        "y_pred_classes = tf.argmax(y_pred, axis=1)\n",
        "y_true_classes = tf.argmax(y_test, axis=1)\n",
        "\n",
        "# Compute evaluation metrics\n",
        "acc = accuracy_score(y_true_classes, y_pred_classes)\n",
        "prec = precision_score(y_true_classes, y_pred_classes, average='micro')\n",
        "rec = recall_score(y_true_classes, y_pred_classes, average='micro')\n",
        "f1 = f1_score(y_true_classes, y_pred_classes, average='micro')\n",
        "cm = confusion_matrix(y_true_classes, y_pred_classes)"
      ],
      "metadata": {
        "colab": {
          "base_uri": "https://localhost:8080/"
        },
        "id": "u1jSaS8jppuv",
        "outputId": "1042c9aa-7991-4940-d3bc-f9612f66803f"
      },
      "execution_count": null,
      "outputs": [
        {
          "output_type": "stream",
          "name": "stdout",
          "text": [
            "313/313 [==============================] - 1s 4ms/step\n"
          ]
        }
      ]
    },
    {
      "cell_type": "code",
      "source": [
        "#average training time per epoch\n",
        "history.history['mean_epoch_time'][-1] "
      ],
      "metadata": {
        "colab": {
          "base_uri": "https://localhost:8080/"
        },
        "id": "2gnL9E2aqCxR",
        "outputId": "f60b5b05-d57e-497b-d727-6c09f4eb528c"
      },
      "execution_count": null,
      "outputs": [
        {
          "output_type": "execute_result",
          "data": {
            "text/plain": [
              "5.845056748390197"
            ]
          },
          "metadata": {},
          "execution_count": 16
        }
      ]
    },
    {
      "cell_type": "code",
      "source": [
        "acc, prec, rec, f1"
      ],
      "metadata": {
        "colab": {
          "base_uri": "https://localhost:8080/"
        },
        "id": "qTgvMyMysx_9",
        "outputId": "5ebb294b-5d6d-469d-a2d4-87d49259ccfc"
      },
      "execution_count": null,
      "outputs": [
        {
          "output_type": "execute_result",
          "data": {
            "text/plain": [
              "(0.3781, 0.3781, 0.3781, 0.3781)"
            ]
          },
          "metadata": {},
          "execution_count": 17
        }
      ]
    },
    {
      "cell_type": "code",
      "source": [
        "plt.imshow(cm)"
      ],
      "metadata": {
        "colab": {
          "base_uri": "https://localhost:8080/",
          "height": 450
        },
        "id": "vnfDxMAls2bO",
        "outputId": "5b248be5-9625-4113-97d1-7234e3a53ae1"
      },
      "execution_count": null,
      "outputs": [
        {
          "output_type": "execute_result",
          "data": {
            "text/plain": [
              "<matplotlib.image.AxesImage at 0x7f4b96de9db0>"
            ]
          },
          "metadata": {},
          "execution_count": 18
        },
        {
          "output_type": "display_data",
          "data": {
            "text/plain": [
              "<Figure size 640x480 with 1 Axes>"
            ],
            "image/png": "[encoded data removed]"
          },
          "metadata": {}
        }
      ]
    },
    {
      "cell_type": "markdown",
      "source": [
        "# Hierarchical Softmax\n",
        "Complexity O(log n)"
      ],
      "metadata": {
        "id": "RDqaPwxIs9qH"
      }
    },
    {
      "cell_type": "code",
      "source": [
        "# Defining a class Tree\n",
        "class Tree:\n",
        "    def __init__(self, leaf_num):\n",
        "        self.decision = {0:1, 1:-1}\n",
        "        self.index = 0\n",
        "        \n",
        "        arr = []\n",
        "        arr2 = []\n",
        "        for path, base, decision, leaf in self.get_decision(self.create_random_tree(leaf_num)): # going through the tree\n",
        "            temporary = np.zeros((1,leaf_num-1), dtype='float32')\n",
        "            temporary2 = np.ones((1,leaf_num-1), dtype='float32')\n",
        "            \n",
        "            np.put(temporary, path, decision)\n",
        "            np.put(temporary2, path, base)\n",
        "            \n",
        "            arr.append(temporary)\n",
        "            arr2.append(temporary2)\n",
        "        self.index = 0    \n",
        "        self.decision = tf.convert_to_tensor(np.array(arr).reshape((leaf_num, leaf_num-1)))\n",
        "        self.base = tf.convert_to_tensor(np.array(arr2).reshape((leaf_num, leaf_num-1)))\n",
        "        \n",
        "        self.decision = tf.Variable(self.decision, trainable=True)\n",
        "        self.base = tf.Variable(self.base, trainable=True)\n",
        "        \n",
        "    def create_random_tree(self, output_dim): # creates a binary tree structure for the classes \n",
        "        outputs = list(range(output_dim))\n",
        "#        outputs = copy(outputs)\n",
        "        #shuffle(outputs)\n",
        "    \n",
        "        while len(outputs) > 2:\n",
        "            temp_outputs = []\n",
        "            for i in range(0, len(outputs), 2):\n",
        "                if len(outputs) - (i+1) > 0:\n",
        "                    temp_outputs.append([outputs[i], outputs[i+1]])\n",
        "                else:\n",
        "                    temp_outputs.append(outputs[i])\n",
        "            outputs = temp_outputs\n",
        "        return outputs\n",
        "\n",
        "    def get_decision(self, tree): #given tree, gives a path decision\n",
        "        temp_i = self.index\n",
        "        self.index += 1\n",
        "        for i, subtree in enumerate(tree):\n",
        "            #temp_i = self.index\n",
        "            if type(subtree) == list:\n",
        "                for path, base, decision_list, value in self.get_decision(subtree):\n",
        "                    yield [temp_i] + path, [i]+base, [self.decision[i]]+decision_list, value\n",
        "            else:\n",
        "                yield [temp_i], [i], [self.decision[i]],subtree \n",
        "\n",
        "# defining the herarchical softmax\n",
        "def hierarchical_softmax(inp, tree):\n",
        "    x1 = tf.multiply(tf.reshape(inp, [-1, 1, 1]), tree.decision)\n",
        "    x1 = tree.base + x1\n",
        "    return (tf.math.reduce_prod(x1, axis=-1))"
      ],
      "metadata": {
        "id": "Ra_G-DhmtPNj"
      },
      "execution_count": null,
      "outputs": []
    },
    {
      "cell_type": "code",
      "source": [
        "tree = Tree(100)\n",
        "# defining the model\n",
        "def functional_model():\n",
        "  inputs = layers.Input(shape=(32, 32, 3))\n",
        "  x = layers.Conv2D(32, (3, 3), activation=\"relu\")(inputs)\n",
        "  x = layers.MaxPooling2D(pool_size=(2, 2))(x)\n",
        "  x = layers.Conv2D(64, (3, 3), activation=\"relu\")(x)\n",
        "  x = layers.MaxPooling2D(pool_size=(2, 2))(x)\n",
        "  x = layers.Flatten()(x)\n",
        "  x = layers.Dense(128, activation=\"relu\")(x)\n",
        "  outputs = layers.Dense(1, activation=lambda x: hierarchical_softmax(x, tree))(x)\n",
        "  return tf.keras.Model(inputs=inputs, outputs=outputs)"
      ],
      "metadata": {
        "id": "GaHmnIWjek8Z"
      },
      "execution_count": null,
      "outputs": []
    },
    {
      "cell_type": "code",
      "source": [
        "# Compile and train\n",
        "model = functional_model()\n",
        "model.compile(optimizer=\"adam\",\n",
        "              loss=\"categorical_crossentropy\",\n",
        "              metrics=[\"accuracy\"])\n",
        "#tf.keras.utils.plot_model(model=model, show_shapes=True, dpi=76)\n",
        "\n",
        "history = model.fit(x_train, y_train, batch_size=64, epochs=10, validation_data=(x_test, y_test), callbacks=[TimeHistory()])"
      ],
      "metadata": {
        "colab": {
          "base_uri": "https://localhost:8080/"
        },
        "id": "EMGsFS6midoP",
        "outputId": "892b2363-3646-4e01-ed39-277181123e51"
      },
      "execution_count": null,
      "outputs": [
        {
          "output_type": "stream",
          "name": "stdout",
          "text": [
            "Epoch 1/10\n",
            "782/782 [==============================] - 6s 6ms/step - loss: nan - accuracy: 0.0100 - val_loss: nan - val_accuracy: 0.0100 - mean_epoch_time: 6.2852\n",
            "Epoch 2/10\n",
            "782/782 [==============================] - 4s 5ms/step - loss: nan - accuracy: 0.0100 - val_loss: nan - val_accuracy: 0.0100 - mean_epoch_time: 5.2203\n",
            "Epoch 3/10\n",
            "782/782 [==============================] - 5s 6ms/step - loss: nan - accuracy: 0.0100 - val_loss: nan - val_accuracy: 0.0100 - mean_epoch_time: 5.0153\n",
            "Epoch 4/10\n",
            "782/782 [==============================] - 4s 5ms/step - loss: nan - accuracy: 0.0100 - val_loss: nan - val_accuracy: 0.0100 - mean_epoch_time: 4.7401\n",
            "Epoch 5/10\n",
            "782/782 [==============================] - 4s 5ms/step - loss: nan - accuracy: 0.0100 - val_loss: nan - val_accuracy: 0.0100 - mean_epoch_time: 4.5653\n",
            "Epoch 6/10\n",
            "782/782 [==============================] - 5s 6ms/step - loss: nan - accuracy: 0.0100 - val_loss: nan - val_accuracy: 0.0100 - mean_epoch_time: 4.6032\n",
            "Epoch 7/10\n",
            "782/782 [==============================] - 4s 5ms/step - loss: nan - accuracy: 0.0100 - val_loss: nan - val_accuracy: 0.0100 - mean_epoch_time: 4.5006\n",
            "Epoch 8/10\n",
            "782/782 [==============================] - 4s 5ms/step - loss: nan - accuracy: 0.0100 - val_loss: nan - val_accuracy: 0.0100 - mean_epoch_time: 4.4562\n",
            "Epoch 9/10\n",
            "782/782 [==============================] - 5s 6ms/step - loss: nan - accuracy: 0.0100 - val_loss: nan - val_accuracy: 0.0100 - mean_epoch_time: 4.4733\n",
            "Epoch 10/10\n",
            "782/782 [==============================] - 4s 5ms/step - loss: nan - accuracy: 0.0100 - val_loss: nan - val_accuracy: 0.0100 - mean_epoch_time: 4.4144\n"
          ]
        }
      ]
    },
    {
      "cell_type": "code",
      "source": [
        "# Predict the classes of the test set\n",
        "y_pred = model.predict(x_test)\n",
        "y_pred_classes = tf.argmax(y_pred, axis=1)\n",
        "y_true_classes = tf.argmax(y_test, axis=1)\n",
        "\n",
        "# Compute evaluation metrics\n",
        "acc = accuracy_score(y_true_classes, y_pred_classes)\n",
        "prec = precision_score(y_true_classes, y_pred_classes, average='micro')\n",
        "rec = recall_score(y_true_classes, y_pred_classes, average='micro')\n",
        "f1 = f1_score(y_true_classes, y_pred_classes, average='micro')\n",
        "cm = confusion_matrix(y_true_classes, y_pred_classes)"
      ],
      "metadata": {
        "colab": {
          "base_uri": "https://localhost:8080/"
        },
        "id": "hB1W8PTkj4IJ",
        "outputId": "97bca286-d099-4bdb-abc7-f41dd604d4cd"
      },
      "execution_count": null,
      "outputs": [
        {
          "output_type": "stream",
          "name": "stdout",
          "text": [
            "313/313 [==============================] - 1s 2ms/step\n"
          ]
        }
      ]
    },
    {
      "cell_type": "code",
      "source": [
        "#average training time per epoch\n",
        "history.history['mean_epoch_time'][-1] "
      ],
      "metadata": {
        "colab": {
          "base_uri": "https://localhost:8080/"
        },
        "id": "mJpy7l5xqU1m",
        "outputId": "6ff113d8-e6e5-4d8a-b0c6-e5408589ce15"
      },
      "execution_count": null,
      "outputs": [
        {
          "output_type": "execute_result",
          "data": {
            "text/plain": [
              "4.968307137489319"
            ]
          },
          "metadata": {},
          "execution_count": 129
        }
      ]
    },
    {
      "cell_type": "code",
      "source": [
        "acc, prec, rec, f1"
      ],
      "metadata": {
        "colab": {
          "base_uri": "https://localhost:8080/"
        },
        "id": "uFe-jF5XkFWG",
        "outputId": "f78609e1-4b60-4f4f-f364-8c0c2af16aca"
      },
      "execution_count": null,
      "outputs": [
        {
          "output_type": "execute_result",
          "data": {
            "text/plain": [
              "(0.01, 0.01, 0.01, 0.01)"
            ]
          },
          "metadata": {},
          "execution_count": 130
        }
      ]
    },
    {
      "cell_type": "code",
      "source": [],
      "metadata": {
        "id": "0ytL5rv5qWxA"
      },
      "execution_count": null,
      "outputs": []
    }
  ]
}